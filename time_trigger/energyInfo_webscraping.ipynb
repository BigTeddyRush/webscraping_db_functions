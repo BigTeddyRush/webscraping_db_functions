{
 "cells": [
  {
   "cell_type": "markdown",
   "id": "deebff72",
   "metadata": {},
   "source": [
    "# Webscraping Energy_Info with SQL Server Connection"
   ]
  },
  {
   "cell_type": "markdown",
   "id": "178425a5",
   "metadata": {},
   "source": [
    "## Webscraping"
   ]
  },
  {
   "cell_type": "code",
   "execution_count": 1,
   "id": "f98dbe8e",
   "metadata": {},
   "outputs": [],
   "source": [
    "import requests\n",
    "from bs4 import BeautifulSoup\n",
    "import json\n",
    "import datetime"
   ]
  },
  {
   "cell_type": "code",
   "execution_count": 2,
   "id": "b3bd1d6d",
   "metadata": {},
   "outputs": [],
   "source": [
    "yesterday = (datetime.datetime.now() - datetime.timedelta(days=1)).date()\n",
    "# power consumption in Germany on one specific day\n",
    "siteurl = f\"https://api.energy-charts.info/total_power?country=de&start={yesterday}T00%3A00%2B01%3A00&end={yesterday}T23%3A45%2B01%3A00\"\n",
    "response = requests.get(siteurl)\n",
    "power_consumption = json.loads(response.content.decode('utf-8'))\n",
    "\n",
    "# create a list of the time_stamps, types and data\n",
    "unix_seconds_list = []\n",
    "name_list = []\n",
    "data_list = []\n",
    "for typ in range(len(power_consumption['production_types'])):\n",
    "    for time in range(len(power_consumption['unix_seconds'])):\n",
    "        # append unix_seconds\n",
    "        unix_seconds_list.append(datetime.datetime.fromtimestamp(power_consumption['unix_seconds'][time]).strftime(\"%m/%d/%Y, %H:%M:%S\"))\n",
    "        # append production_types\n",
    "        name_list.append(power_consumption['production_types'][typ]['name'])\n",
    "        # append data\n",
    "        data_list.append(power_consumption['production_types'][typ]['data'][time])\n",
    "\n",
    "# create dict\n",
    "power_consumption_dict = {'unix_seconds' : unix_seconds_list, 'name' : name_list, 'data' : data_list}"
   ]
  },
  {
   "cell_type": "markdown",
   "id": "5290b4ae",
   "metadata": {},
   "source": [
    "## Data to SQL Server"
   ]
  },
  {
   "cell_type": "code",
   "execution_count": 3,
   "id": "a258248b",
   "metadata": {},
   "outputs": [],
   "source": [
    "import pyodbc\n",
    "from config import database_config"
   ]
  },
  {
   "cell_type": "code",
   "execution_count": 4,
   "id": "1ee738f4",
   "metadata": {
    "scrolled": false
   },
   "outputs": [],
   "source": [
    "server = database_config['server']\n",
    "database = database_config['database']\n",
    "username = database_config['username']\n",
    "password = database_config['password']\n",
    "driver= database_config['driver']\n",
    "\n",
    "try:\n",
    "    with pyodbc.connect('DRIVER='+driver+';SERVER=tcp:'+server+';PORT=1433;DATABASE='+database+';UID='+username+';PWD='+ password) as conn:\n",
    "        with conn.cursor() as cursor:\n",
    "            # delte database to fill with new data\n",
    "            cursor.execute(\"DELETE FROM dbo.EnergyCharts\")\n",
    "            for i in range(len(power_consumption_dict['unix_seconds'])):\n",
    "                unix_seconds = power_consumption_dict['unix_seconds'][i]\n",
    "                name = power_consumption_dict['name'][i]\n",
    "                data = power_consumption_dict['data'][i]\n",
    "\n",
    "                # INSERT-Befehl ausführen\n",
    "                query = \"INSERT INTO dbo.EnergyCharts ([unix_seconds], [name], [data]) VALUES (?, ?, ?)\"\n",
    "                cursor.execute(query, (unix_seconds, name, data))\n",
    "except pyodbc.Error as ex:\n",
    "    print(\"Fehler beim Verbinden zur Datenbank:\", ex)"
   ]
  }
 ],
 "metadata": {
  "kernelspec": {
   "display_name": "Python 3 (ipykernel)",
   "language": "python",
   "name": "python3"
  },
  "language_info": {
   "codemirror_mode": {
    "name": "ipython",
    "version": 3
   },
   "file_extension": ".py",
   "mimetype": "text/x-python",
   "name": "python",
   "nbconvert_exporter": "python",
   "pygments_lexer": "ipython3",
   "version": "3.9.18"
  }
 },
 "nbformat": 4,
 "nbformat_minor": 5
}
